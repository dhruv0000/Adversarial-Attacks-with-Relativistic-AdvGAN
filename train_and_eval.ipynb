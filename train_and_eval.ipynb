{
    "cells": [
        {
            "cell_type": "markdown",
            "metadata": {},
            "source": [
                "# Adversarial Attacks with Relativistic AdvGAN\n",
                "\n",
                "This notebook will:\n",
                "1. Clone the repo from GitHub\n",
                "2. Install the required dependencies\n",
                "3. (Optionally) modify hyperparameters\n",
                "4. Run `main.py` to train the model\n",
                "5. Evaluate the trained model\n",
                "\n",
                "The repository link is: [https://github.com/dhruv0000/Adversarial-Attacks-with-Relativistic-AdvGAN](https://github.com/dhruv0000/Adversarial-Attacks-with-Relativistic-AdvGAN)"
            ]
        },
        {
            "cell_type": "code",
            "execution_count": null,
            "metadata": {},
            "outputs": [],
            "source": [
                "# Clone the repository\n",
                "!git clone https://github.com/dhruv0000/Adversarial-Attacks-with-Relativistic-AdvGAN.git\n",
                "%cd Adversarial-Attacks-with-Relativistic-AdvGAN\n",
                "!git checkout dhruv0000/targated"
            ]
        },
        {
            "cell_type": "code",
            "execution_count": null,
            "metadata": {},
            "outputs": [],
            "source": [
                "# Install dependencies\n",
                "!pip install -r requirements.txt"
            ]
        },
        {
            "cell_type": "code",
            "execution_count": null,
            "metadata": {},
            "outputs": [],
            "source": [
                "# Check for CUDA availability\n",
                "import torch\n",
                "print('CUDA Available:', torch.cuda.is_available())"
            ]
        },
        {
            "cell_type": "markdown",
            "metadata": {},
            "source": [
                "## (Optional) Modify the Hyperparameters\n",
                "\n",
                "You can change the hyperparameters in `src/hyperparams.json`. In the cell below we overwrite some values. Adjust them as needed."
            ]
        },
        {
            "cell_type": "code",
            "execution_count": null,
            "metadata": {},
            "outputs": [],
            "source": [
                "import json\n",
                "hyperparams_path = 'src/hyperparams.json'\n",
                "\n",
                "with open(hyperparams_path, 'r') as f:\n",
                "    hyperparams = json.load(f)\n",
                "\n",
                "# Example: change target dataset to CIFAR10 and set AdvGAN_epochs to 2 for a quick run\n",
                "hyperparams['target_dataset'] = 'CIFAR10'\n",
                "hyperparams['AdvGAN_epochs'] = 2\n",
                "\n",
                "with open(hyperparams_path, 'w') as f:\n",
                "    json.dump(hyperparams, f, indent=4)\n",
                "\n",
                "print('Updated hyperparameters:')\n",
                "print(json.dumps(hyperparams, indent=4))"
            ]
        },
        {
            "cell_type": "markdown",
            "metadata": {},
            "source": [
                "## Run Training and Evaluation\n",
                "\n",
                "The following cell runs `main.py` which first trains the target model (if not already trained) and then trains AdvGAN. Note that this will take some time."
            ]
        },
        {
            "cell_type": "code",
            "execution_count": null,
            "metadata": {},
            "outputs": [],
            "source": [
                "# Run the main training script\n",
                "!python src/main.py --config src/hyperparams.json"
            ]
        },
        {
            "cell_type": "markdown",
            "metadata": {},
            "source": [
                "## Evaluation\n",
                "\n",
                "After training completes, you can check the results (loss plots and generated examples) in the folders created under `results/`, `npy/` and `checkpoints/`.\n",
                "\n",
                "For example, to list the generated adversarial examples from one run:"
            ]
        },
        {
            "cell_type": "code",
            "execution_count": null,
            "metadata": {},
            "outputs": [],
            "source": [
                "# List the examples directory\n",
                "!find results -type f"
            ]
        },
        {
            "cell_type": "code",
            "execution_count": null,
            "metadata": {},
            "outputs": [],
            "source": [
                "# Copy the results to Google Drive\n",
                "\n",
                "!zip -r /content/Adversarial-Attacks-with-Relativistic-AdvGAN.zip /content/drive/MyDrive/Adversarial-Attacks-with-Relativistic-AdvGAN\n",
                "!cp /content/Adversarial-Attacks-with-Relativistic-AdvGAN.zip /content/drive/MyDrive/\n",
                "from google.colab import files\n",
                "files.download(\"/content/Adversarial-Attacks-with-Relativistic-AdvGAN-Targeted-Adversarial-Attacks.zip\")"
            ]
        }
    ],
    "metadata": {
        "colab": {
            "name": "train_and_eval.ipynb",
            "provenance": []
        },
        "kernelspec": {
            "display_name": "Python 3",
            "language": "python",
            "name": "python3"
        },
        "language_info": {
            "name": "python"
        }
    },
    "nbformat": 4,
    "nbformat_minor": 2
}
